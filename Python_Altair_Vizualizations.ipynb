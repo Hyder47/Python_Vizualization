{
 "cells": [
  {
   "cell_type": "markdown",
   "metadata": {},
   "source": [
    "#### Imports defined"
   ]
  },
  {
   "cell_type": "code",
   "execution_count": null,
   "metadata": {},
   "outputs": [],
   "source": [
    "import altair as alt ## v 4.0.0 required.\n",
    "import pandas as pd"
   ]
  },
  {
   "cell_type": "markdown",
   "metadata": {},
   "source": [
    "#### Reading csv file and storing it into a DataFrame."
   ]
  },
  {
   "cell_type": "code",
   "execution_count": null,
   "metadata": {},
   "outputs": [],
   "source": [
    "df = pd.read_csv('data/esb_tidy.csv')"
   ]
  },
  {
   "cell_type": "markdown",
   "metadata": {},
   "source": [
    "#### Replacing the column whitespaces with \"_\" in the DataFrame."
   ]
  },
  {
   "cell_type": "code",
   "execution_count": null,
   "metadata": {},
   "outputs": [],
   "source": [
    "df.columns = [i.replace(' ','_') for i in df.columns]  # Column names with whitespace resulted in Javascript Error\n",
    "                                                       # while generating plots."
   ]
  },
  {
   "cell_type": "markdown",
   "metadata": {},
   "source": [
    "#### Function to format a DataFrame."
   ]
  },
  {
   "cell_type": "code",
   "execution_count": null,
   "metadata": {},
   "outputs": [],
   "source": [
    "def untidy_df(df):\n",
    "    col_length = df.shape[0]\n",
    "    start = end = 0\n",
    "    rows = []\n",
    "    \n",
    "    while (col_length > 0) :\n",
    "\n",
    "        sliced_df = df.loc[start:(end+11)]\n",
    "        df.drop(sliced_df.index,inplace=True)\n",
    "        df.reset_index(drop=True, inplace=True)\n",
    "\n",
    "        Council_Name = list(sliced_df['Council_Name'].unique())[0]\n",
    "        Council_Type = list(sliced_df['Council_Type'].unique())[0]\n",
    "        Year = list(sliced_df['Year'].unique())[0]\n",
    "\n",
    "        ESB_Connections = list(sliced_df['ESB_Connection'].values)\n",
    "\n",
    "        row = [Council_Name,Council_Type,Year]\n",
    "        \n",
    "        row.extend(ESB_Connections)\n",
    "        rows.append(row)\n",
    "        \n",
    "        col_length = df.shape[0]\n",
    "        \n",
    "    df_untidy = pd.DataFrame(columns = ['Council_Name','Council_Type','Year','Jan','Feb','Mar','Apr','May',\n",
    "                                        'Jun','Jul','Aug','Sept','Oct','Nov','Dec'], data = rows)\n",
    "    \n",
    "    return df_untidy\n",
    "    "
   ]
  },
  {
   "cell_type": "markdown",
   "metadata": {},
   "source": [
    "#### Chart 1 : City Council ESB Connections over the Years."
   ]
  },
  {
   "cell_type": "code",
   "execution_count": null,
   "metadata": {},
   "outputs": [],
   "source": [
    "chart1 = df.copy()\n",
    "chart1['Year'] = chart1['Year'].astype(str)\n",
    "chart1['Year'] = pd.to_datetime(chart1['Year'] + ' ' + chart1['Month'])"
   ]
  },
  {
   "cell_type": "code",
   "execution_count": null,
   "metadata": {},
   "outputs": [],
   "source": [
    "highlight = alt.selection(type='single', on='mouseover',\n",
    "                          fields=['Council_Name'], nearest=True)\n",
    "\n",
    "base = alt.Chart(chart1).encode(\n",
    "    x = 'Year:T',\n",
    "    y = 'ESB_Connection:Q',\n",
    "    color = 'Council_Name:N'\n",
    ").transform_filter(alt.datum['Council_Type'] == 'City Council')\n",
    "\n",
    "points = base.mark_circle().encode(\n",
    "    opacity = alt.value(3)\n",
    ").add_selection(\n",
    "    highlight\n",
    ").properties(\n",
    "    width = 800,\n",
    "    title = 'City Council ESB Connection over the Years'\n",
    ")\n",
    "\n",
    "lines = base.mark_line().encode(\n",
    "    size = alt.condition(~highlight, alt.value(1), alt.value(3))\n",
    ")\n",
    "\n",
    "\n",
    "(points + lines).save('C00246376_Python_Assignment_3_Part_3/static/chart1.html')\n",
    "\n",
    "points + lines"
   ]
  },
  {
   "cell_type": "markdown",
   "metadata": {},
   "source": [
    "#### Chart 2 : Yearly ESB Connections by Council Type."
   ]
  },
  {
   "cell_type": "code",
   "execution_count": null,
   "metadata": {},
   "outputs": [],
   "source": [
    "chart2 = df.copy()\n",
    "chart2 = untidy_df(chart2)\n",
    "chart2['Year'] = chart2['Year'].astype(str)\n",
    "\n",
    "chart2 = chart2.groupby(['Year','Council_Type'],as_index=False).agg(\n",
    "    {\n",
    "        'Jan' :'sum',\n",
    "        'Feb' :'sum',\n",
    "        'Mar' :'sum',\n",
    "        'Apr' :'sum',\n",
    "        'May' :'sum',\n",
    "        'Jun' :'sum',\n",
    "        'Jul' :'sum',\n",
    "        'Aug' :'sum',\n",
    "        'Sept':'sum',\n",
    "        'Oct' :'sum',\n",
    "        'Nov' :'sum',\n",
    "        'Dec' :'sum',\n",
    "    }\n",
    "    )\n",
    "\n",
    "chart2['ESB_Connection'] = chart2.sum(axis=1)"
   ]
  },
  {
   "cell_type": "code",
   "execution_count": null,
   "metadata": {},
   "outputs": [],
   "source": [
    "chart = alt.Chart(chart2)\n",
    "\n",
    "colour = alt.Scale(domain = ('City Council', 'County Council'),\n",
    "                      range = ['grey', 'orange'])\n",
    "\n",
    "bars = chart.mark_bar().encode(\n",
    "    x = alt.X('Council_Type:N', title = None),\n",
    "    y = alt.Y('ESB_Connection:Q'),\n",
    "    color = alt.Color('Council_Type:N', scale = colour),\n",
    "    column = 'Year:O'\n",
    ").properties(\n",
    "    width = 50,\n",
    "    title = 'Yearly ESB Connections by Council Type',\n",
    "    background = 'white'\n",
    ").configure_facet(\n",
    "    spacing = 20\n",
    ")\n",
    "\n",
    "bars.save('C00246376_Python_Assignment_3_Part_3/static/chart2.html')\n",
    "\n",
    "bars\n"
   ]
  },
  {
   "cell_type": "markdown",
   "metadata": {},
   "source": [
    "#### Chart 3 : Yearly ESB Connection as a Percentage of Total."
   ]
  },
  {
   "cell_type": "code",
   "execution_count": null,
   "metadata": {},
   "outputs": [],
   "source": [
    "chart3 = df.groupby(['Year'],as_index=False).agg(\n",
    "    {'ESB_Connection' :'sum'}\n",
    ")"
   ]
  },
  {
   "cell_type": "code",
   "execution_count": null,
   "metadata": {},
   "outputs": [],
   "source": [
    "bars = alt.Chart(chart3).transform_joinaggregate(\n",
    "    TotalESB = 'sum(ESB_Connection)',\n",
    ").transform_calculate(\n",
    "    PercentOfTotal = \"datum.ESB_Connection / datum.TotalESB\"\n",
    ").mark_bar().encode(\n",
    "    alt.X('PercentOfTotal:Q', axis=alt.Axis(format = '.0%')),\n",
    "    y = 'Year:N',\n",
    ")\n",
    "\n",
    "text = bars.mark_text(\n",
    "    align = 'left',\n",
    "    baseline = 'middle',\n",
    "    dx = 3  # Nudges text to right so it doesn't appear on top of the bar\n",
    ").encode(\n",
    "    text = 'ESB_Connection'\n",
    ")\n",
    "\n",
    "(bars + text).properties(\n",
    "    title = 'Yearly ESB Connection as a Percentage of Total',\n",
    "    height = 300,\n",
    ").save('C00246376_Python_Assignment_3_Part_3/static/chart3.html')\n",
    "\n",
    "bars + text"
   ]
  },
  {
   "cell_type": "markdown",
   "metadata": {},
   "source": [
    "#### Chart 4 : City Wise ESB Conections over the Years."
   ]
  },
  {
   "cell_type": "code",
   "execution_count": null,
   "metadata": {},
   "outputs": [],
   "source": [
    "chart4 = df.groupby(['Year','Council_Name','Council_Type'],as_index=False).agg(\n",
    "    {'ESB_Connection' :'sum'}\n",
    ")\n",
    "\n",
    "chart4 = chart4[chart4.Council_Type == 'City Council']"
   ]
  },
  {
   "cell_type": "code",
   "execution_count": null,
   "metadata": {},
   "outputs": [],
   "source": [
    "bars = alt.Chart(chart4).mark_bar(size=25).encode(\n",
    "    x=alt.X('sum(ESB_Connection):Q', stack='zero'),\n",
    "    y=alt.Y('Year:Q'),\n",
    "    color=alt.Color('Council_Name')\n",
    ").properties(\n",
    "    width = 700,\n",
    "    title = 'City Wise ESB Conections over the Years'\n",
    ")\n",
    "\n",
    "bars.save('C00246376_Python_Assignment_3_Part_3/static/chart4.html')\n",
    "\n",
    "bars"
   ]
  },
  {
   "cell_type": "markdown",
   "metadata": {},
   "source": [
    "#### Chart 5 : Yearly ESB Connections of Carlow County Council for any Month (user to input month value)."
   ]
  },
  {
   "cell_type": "code",
   "execution_count": null,
   "metadata": {},
   "outputs": [],
   "source": [
    "chart5 = df.copy()\n",
    "chart5 = untidy_df(chart5)\n",
    "\n",
    "options = {1 : 'Jan',\n",
    "           2 : 'Feb',\n",
    "           3 : 'Mar',\n",
    "           4 : 'Apr',\n",
    "           5 : 'May',\n",
    "           6 : 'Jun',\n",
    "           7 : 'Jul',\n",
    "           8 : 'Aug',\n",
    "           9 : 'Sept',\n",
    "           10: 'Oct',\n",
    "           11: 'Nov',\n",
    "           12: 'Dec'\n",
    "          }"
   ]
  },
  {
   "cell_type": "code",
   "execution_count": null,
   "metadata": {},
   "outputs": [],
   "source": [
    "for i,j in options.items():\n",
    "    print (str(i) +' : ' + j)\n",
    "    \n",
    "user_inp = input('Enter a month number : ')"
   ]
  },
  {
   "cell_type": "code",
   "execution_count": null,
   "metadata": {},
   "outputs": [],
   "source": [
    "chart = alt.Chart(chart5)\n",
    "\n",
    "bar = chart.mark_area(\n",
    "    color = \"lightblue\",\n",
    "    interpolate = 'step-after',\n",
    "    line = True\n",
    ").encode(\n",
    "    x = 'Year:N',\n",
    "    y = options[int(user_inp)]\n",
    ").transform_filter(alt.datum['Council_Name'] == 'Carlow'\n",
    ").properties(\n",
    "    width = 500,\n",
    "    title = f\"Yearly ESB Connections of Carlow County Council, {options[int(user_inp)]}\",\n",
    "    background = \"white\",)\n",
    "\n",
    "bar.save('C00246376_Python_Assignment_3_Part_3/static/chart5.html')\n",
    "\n",
    "bar"
   ]
  }
 ],
 "metadata": {
  "kernelspec": {
   "display_name": "Python 3",
   "language": "python",
   "name": "python3"
  },
  "language_info": {
   "codemirror_mode": {
    "name": "ipython",
    "version": 3
   },
   "file_extension": ".py",
   "mimetype": "text/x-python",
   "name": "python",
   "nbconvert_exporter": "python",
   "pygments_lexer": "ipython3",
   "version": "3.7.4"
  }
 },
 "nbformat": 4,
 "nbformat_minor": 2
}
